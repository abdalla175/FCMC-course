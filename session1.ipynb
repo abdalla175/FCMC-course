{
 "cells": [
  {
   "cell_type": "markdown",
   "metadata": {
    "colab_type": "text",
    "id": "view-in-github"
   },
   "source": [
    "<a href=\"https://colab.research.google.com/github/abdalla175/FCMC-course/blob/main/session1.ipynb\" target=\"_parent\"><img src=\"https://colab.research.google.com/assets/colab-badge.svg\" alt=\"Open In Colab\"/></a>"
   ]
  },
  {
   "cell_type": "markdown",
   "metadata": {
    "id": "Odomb3LnG-Bs"
   },
   "source": [
    "input and output\n",
    "data types"
   ]
  },
  {
   "cell_type": "code",
   "execution_count": null,
   "metadata": {
    "colab": {
     "base_uri": "https://localhost:8080/"
    },
    "id": "k2QUT80wAGgi",
    "outputId": "c1948442-7221-4663-8812-f2204a6dbce4"
   },
   "outputs": [
    {
     "name": "stdout",
     "output_type": "stream",
     "text": [
      "5\n"
     ]
    }
   ],
   "source": [
    "print(5)"
   ]
  },
  {
   "cell_type": "code",
   "execution_count": null,
   "metadata": {
    "colab": {
     "base_uri": "https://localhost:8080/"
    },
    "id": "yJOWEYZ3ASg4",
    "outputId": "d455ecea-f560-4f86-9a16-112d11bf21d7"
   },
   "outputs": [
    {
     "name": "stdout",
     "output_type": "stream",
     "text": [
      "2\n",
      "<class 'int'>\n"
     ]
    }
   ],
   "source": [
    "x = 1\n",
    "\n",
    "\n",
    "x = 2\n",
    "print(x)   # X will not work  you should use the same name of the variable\n",
    "print(type(x))"
   ]
  },
  {
   "cell_type": "code",
   "execution_count": null,
   "metadata": {
    "colab": {
     "base_uri": "https://localhost:8080/"
    },
    "id": "UT3TuxbMA_Rt",
    "outputId": "d0c28586-dcf7-4137-a380-6885e1707b33"
   },
   "outputs": [
    {
     "name": "stdout",
     "output_type": "stream",
     "text": [
      "1.2 <class 'float'>\n"
     ]
    }
   ],
   "source": [
    "b_float = 1.2\n",
    "print(b_float,type(b_float))"
   ]
  },
  {
   "cell_type": "code",
   "execution_count": null,
   "metadata": {
    "colab": {
     "base_uri": "https://localhost:8080/"
    },
    "id": "tkzjDZHEBKn3",
    "outputId": "e2367172-2a36-4d5d-9d79-df3dd4219677"
   },
   "outputs": [
    {
     "name": "stdout",
     "output_type": "stream",
     "text": [
      "(2+5j)\n",
      "<class 'complex'>\n"
     ]
    }
   ],
   "source": [
    "real = 2\n",
    "imag = 5\n",
    "num = complex(real, imag)\n",
    "print(num)    # print will start new line after printing\n",
    "print(type(num))"
   ]
  },
  {
   "cell_type": "code",
   "execution_count": null,
   "metadata": {
    "colab": {
     "base_uri": "https://localhost:8080/"
    },
    "id": "hSaHLjoDAXoX",
    "outputId": "67b8c417-4cee-4522-dcd6-1d4ebe39568f"
   },
   "outputs": [
    {
     "name": "stdout",
     "output_type": "stream",
     "text": [
      "<class 'str'>\n",
      "33333\n"
     ]
    }
   ],
   "source": [
    "y = '3'\n",
    "print(type(y))\n",
    "print(y*5)"
   ]
  },
  {
   "cell_type": "code",
   "execution_count": null,
   "metadata": {
    "colab": {
     "base_uri": "https://localhost:8080/"
    },
    "id": "ZwJV1y-J4XDD",
    "outputId": "09c99756-befa-4fc6-f312-94a7f4b463f1"
   },
   "outputs": [
    {
     "name": "stdout",
     "output_type": "stream",
     "text": [
      "<class 'int'>\n",
      "25\n"
     ]
    }
   ],
   "source": [
    "y = 5\n",
    "print(type(y))\n",
    "print(y*5)"
   ]
  },
  {
   "cell_type": "code",
   "execution_count": null,
   "metadata": {
    "colab": {
     "base_uri": "https://localhost:8080/"
    },
    "id": "x3S8QyncAi-7",
    "outputId": "41d7dec3-8f24-4fff-c085-7ad88e77d735"
   },
   "outputs": [
    {
     "name": "stdout",
     "output_type": "stream",
     "text": [
      "X\n",
      "𛍟\n"
     ]
    }
   ],
   "source": [
    "print (chr (88))     # chr change the number to the opposite character in the unicode\n",
    "print (chr (111455))    # out of range"
   ]
  },
  {
   "cell_type": "code",
   "execution_count": null,
   "metadata": {
    "colab": {
     "base_uri": "https://localhost:8080/"
    },
    "id": "wZSB_-IDEB0e",
    "outputId": "7d47c872-f0cb-45e6-af28-a67a1d5bba9d"
   },
   "outputs": [
    {
     "name": "stdout",
     "output_type": "stream",
     "text": [
      "<class 'str'>\n"
     ]
    }
   ],
   "source": [
    "course_name = 'Machine Learning'\n",
    "print(type(course_name))"
   ]
  },
  {
   "cell_type": "code",
   "execution_count": null,
   "metadata": {
    "colab": {
     "base_uri": "https://localhost:8080/"
    },
    "id": "9nfHF53f45ha",
    "outputId": "6dadbe20-5c80-4225-ab0b-e695aeb864ad"
   },
   "outputs": [
    {
     "name": "stdout",
     "output_type": "stream",
     "text": [
      "ahmed\n",
      "ahmed\n"
     ]
    }
   ],
   "source": [
    "name = input()\n",
    "print(name)"
   ]
  },
  {
   "cell_type": "code",
   "execution_count": null,
   "metadata": {
    "colab": {
     "base_uri": "https://localhost:8080/"
    },
    "id": "K1Kmkj1v_9_3",
    "outputId": "1f15c0f9-3111-4f13-cdec-81183104d4fd"
   },
   "outputs": [
    {
     "name": "stdout",
     "output_type": "stream",
     "text": [
      "Birth year: 2002\n"
     ]
    }
   ],
   "source": [
    "birth_year = int(input(\"Birth year: \"))"
   ]
  },
  {
   "cell_type": "code",
   "execution_count": null,
   "metadata": {
    "colab": {
     "base_uri": "https://localhost:8080/"
    },
    "id": "iAl7mMPlAJ09",
    "outputId": "56864373-e64a-4415-f93a-b63cd09d159b"
   },
   "outputs": [
    {
     "name": "stdout",
     "output_type": "stream",
     "text": [
      "2002\n",
      "ahmed\n"
     ]
    }
   ],
   "source": [
    "print(birth_year)\n",
    "print(\"ahmed\")"
   ]
  },
  {
   "cell_type": "code",
   "execution_count": null,
   "metadata": {
    "colab": {
     "base_uri": "https://localhost:8080/",
     "height": 144
    },
    "id": "f2KuK7OJFpr5",
    "outputId": "dbbd3b58-a36a-4259-d2f6-40ec36b54c82"
   },
   "outputs": [
    {
     "ename": "TypeError",
     "evalue": "can only concatenate str (not \"int\") to str",
     "output_type": "error",
     "traceback": [
      "\u001b[0;31m---------------------------------------------------------------------------\u001b[0m",
      "\u001b[0;31mTypeError\u001b[0m                                 Traceback (most recent call last)",
      "\u001b[0;32m<ipython-input-4-5fe6f1dc8811>\u001b[0m in \u001b[0;36m<cell line: 1>\u001b[0;34m()\u001b[0m\n\u001b[0;32m----> 1\u001b[0;31m \u001b[0mprint\u001b[0m\u001b[0;34m(\u001b[0m\u001b[0;34m'Hello, '\u001b[0m \u001b[0;34m+\u001b[0m \u001b[0mbirth_year\u001b[0m \u001b[0;34m+\u001b[0m \u001b[0;34m'! How are you?'\u001b[0m\u001b[0;34m)\u001b[0m\u001b[0;34m\u001b[0m\u001b[0;34m\u001b[0m\u001b[0m\n\u001b[0m",
      "\u001b[0;31mTypeError\u001b[0m: can only concatenate str (not \"int\") to str"
     ]
    }
   ],
   "source": [
    "print('Hello, ' + birth_year + '! How are you?')       # error because birth_year is int so it must be changed"
   ]
  },
  {
   "cell_type": "code",
   "execution_count": null,
   "metadata": {
    "colab": {
     "base_uri": "https://localhost:8080/"
    },
    "id": "GKR_3dmkF6cY",
    "outputId": "c7c48ed1-cb56-4f33-b8a4-35abb15f88d3"
   },
   "outputs": [
    {
     "name": "stdout",
     "output_type": "stream",
     "text": [
      "<class 'int'>\n"
     ]
    }
   ],
   "source": [
    "print(type(birth_year))"
   ]
  },
  {
   "cell_type": "code",
   "execution_count": null,
   "metadata": {
    "colab": {
     "base_uri": "https://localhost:8080/"
    },
    "id": "FRA7mSW1Fz0r",
    "outputId": "62eb84f9-5e7a-4bb0-ae7d-5a9b9e9bce06"
   },
   "outputs": [
    {
     "name": "stdout",
     "output_type": "stream",
     "text": [
      "Hello, 2002! How are you?\n"
     ]
    }
   ],
   "source": [
    "print('Hello, ' + str(birth_year) + '! How are you?')"
   ]
  },
  {
   "cell_type": "code",
   "execution_count": null,
   "metadata": {
    "colab": {
     "base_uri": "https://localhost:8080/"
    },
    "id": "Lv9xjrgyFOwy",
    "outputId": "63572e52-4715-49b4-e46b-ad3859dca99f"
   },
   "outputs": [
    {
     "name": "stdout",
     "output_type": "stream",
     "text": [
      "What is your name? ali\n",
      "Hello, ali          !How are you?\n"
     ]
    }
   ],
   "source": [
    "name = input(\"What is your name? \")\n",
    "print(f'Hello, {name}          !How are you?')     # take care of spaces"
   ]
  },
  {
   "cell_type": "markdown",
   "metadata": {
    "id": "IFYCUgk4HTGY"
   },
   "source": [
    "comments"
   ]
  },
  {
   "cell_type": "code",
   "execution_count": null,
   "metadata": {
    "colab": {
     "base_uri": "https://localhost:8080/",
     "height": 36
    },
    "id": "rF4lQprf4S4s",
    "outputId": "82f3cb42-c80d-41e1-906c-c16cb0d33ea2"
   },
   "outputs": [
    {
     "data": {
      "application/vnd.google.colaboratory.intrinsic+json": {
       "type": "string"
      },
      "text/plain": [
       "'\\nthis is a multiline comment\\n'"
      ]
     },
     "execution_count": 5,
     "metadata": {},
     "output_type": "execute_result"
    }
   ],
   "source": [
    "# this is single line comment\n",
    "\n",
    "\"\"\"\n",
    "this is a multiline comment\n",
    "\"\"\""
   ]
  },
  {
   "cell_type": "markdown",
   "metadata": {
    "id": "VayU90M9HVB_"
   },
   "source": [
    "mathmatical operators"
   ]
  },
  {
   "cell_type": "code",
   "execution_count": null,
   "metadata": {
    "id": "cRO02BLgAQca"
   },
   "outputs": [],
   "source": [
    "price_cake = 15\n",
    "price_cookie = 6\n",
    "total = price_cake + price_cookie       # you can do the mathematical operations in numbers (int - float)\n",
    "print(\"The total is: \", total  , \"$\")"
   ]
  },
  {
   "cell_type": "code",
   "execution_count": null,
   "metadata": {
    "colab": {
     "base_uri": "https://localhost:8080/"
    },
    "id": "k7qJJJ-zGLaV",
    "outputId": "4a5aace4-691e-4d0d-e3f7-292500d46583"
   },
   "outputs": [
    {
     "name": "stdout",
     "output_type": "stream",
     "text": [
      "The total is:  90 $\n"
     ]
    }
   ],
   "source": [
    "price_cake = 15\n",
    "number_of_cakes = 6\n",
    "total = price_cake * number_of_cakes\n",
    "print(\"The total is: \", total  , \"$\")"
   ]
  },
  {
   "cell_type": "code",
   "execution_count": null,
   "metadata": {
    "colab": {
     "base_uri": "https://localhost:8080/"
    },
    "id": "OlBGgcg3GnJM",
    "outputId": "840d2732-8ab3-4780-9f61-c4294086eae2"
   },
   "outputs": [
    {
     "name": "stdout",
     "output_type": "stream",
     "text": [
      "The number of cakes for each person is:  2.0\n"
     ]
    }
   ],
   "source": [
    "numbers_of_persons = 3\n",
    "number_of_cakes = 6\n",
    "number_of_cakes_for_each_person = number_of_cakes / numbers_of_persons\n",
    "print(\"The number of cakes for each person is: \", number_of_cakes_for_each_person )"
   ]
  },
  {
   "cell_type": "code",
   "execution_count": null,
   "metadata": {
    "colab": {
     "base_uri": "https://localhost:8080/"
    },
    "id": "gmfGapf7GTh7",
    "outputId": "b0779897-1c6c-4252-d144-f5f0e0316b48"
   },
   "outputs": [
    {
     "name": "stdout",
     "output_type": "stream",
     "text": [
      "total 90\n",
      "total 81.0\n",
      "The total is:  81.0 $\n"
     ]
    }
   ],
   "source": [
    "price_cake = 15\n",
    "number_of_cakes = 6\n",
    "discount = 10\n",
    "total = price_cake * number_of_cakes\n",
    "print(\"total\", total)\n",
    "\n",
    "total = total - (total * discount / 100)\n",
    "print(\"total\", total)\n",
    "print(\"The total is: \", total  , \"$\")"
   ]
  },
  {
   "cell_type": "code",
   "execution_count": null,
   "metadata": {
    "colab": {
     "base_uri": "https://localhost:8080/"
    },
    "id": "V_OgSHbYGbMl",
    "outputId": "e20b7f07-7997-479c-d505-0167e0192d36"
   },
   "outputs": [
    {
     "name": "stdout",
     "output_type": "stream",
     "text": [
      "<class 'int'>\n",
      "3\n",
      "4\n",
      "2\n",
      "6\n",
      "27\n",
      "1\n",
      "1.5\n",
      "<class 'int'>\n",
      "<class 'float'>\n"
     ]
    }
   ],
   "source": [
    "x = 3    # initialized before\n",
    "print(type(x)) # Prints \"<class 'int'>\"\n",
    "\n",
    "print(x) # Prints 3\n",
    "\n",
    "print(x + 1) # Addition; prints 4         the value of x does not change\n",
    "\n",
    "print(x - 1) # Subtraction; prints 2\n",
    "print(x * 2) # Multiplication; prints 6\n",
    "print(x ** 3)  # power print 9\n",
    "print(x // 2)  # dividing without reminder\n",
    "print(x / 2)   # reguler dividing    ,  will generate float number\n",
    "print(type(x))\n",
    "x = x /2      # x will be changed from int to float\n",
    "print(type(x))\n"
   ]
  },
  {
   "cell_type": "code",
   "execution_count": null,
   "metadata": {
    "colab": {
     "base_uri": "https://localhost:8080/"
    },
    "id": "fAYKgGjGN_u6",
    "outputId": "46c5fe39-86a8-4ae8-a695-41cc8bc100f1"
   },
   "outputs": [
    {
     "name": "stdout",
     "output_type": "stream",
     "text": [
      "1\n",
      "2\n"
     ]
    }
   ],
   "source": [
    "print(10 % 3)         # return the reminder of dividing\n",
    "print(8 % 3)       # 8 = 6 + 2 , 6 is Divisible but 2 is not"
   ]
  },
  {
   "cell_type": "code",
   "execution_count": null,
   "metadata": {
    "colab": {
     "base_uri": "https://localhost:8080/"
    },
    "id": "3vgGIN19HRFo",
    "outputId": "96d37d4e-98b2-40eb-d22e-64b1d8657d29"
   },
   "outputs": [
    {
     "name": "stdout",
     "output_type": "stream",
     "text": [
      "255\n",
      " 510 \n",
      "\n",
      " 6.25 /n\n"
     ]
    }
   ],
   "source": [
    "x += 1   # another way to write x = x + 1\n",
    "print(x) # Prints \"4\"\n",
    "\n",
    "x *= 2      # you can write any mathematical operator before =\n",
    "print(f\" {x} \\n\") # Prints \"8\"\n",
    "\n",
    "y = 2.5\n",
    "y **= 2\n",
    "print(f\" {y} /n\") # Prints \"6.25\""
   ]
  },
  {
   "cell_type": "code",
   "execution_count": null,
   "metadata": {
    "colab": {
     "base_uri": "https://localhost:8080/"
    },
    "id": "DY2uhldEHtNo",
    "outputId": "2c74ab40-6a05-4783-f449-43311fd54461"
   },
   "outputs": [
    {
     "name": "stdout",
     "output_type": "stream",
     "text": [
      "6.25   7.25 12.5 39.0625\n"
     ]
    }
   ],
   "source": [
    "print(y,' ', y + 1, y * 2, y ** 2)\n",
    "# to print different variables in the same line\n",
    "# you can use + if the variables are strings\n",
    "#      or use ,"
   ]
  },
  {
   "cell_type": "markdown",
   "metadata": {
    "id": "J3Gt95CZG50g"
   },
   "source": [
    "strings"
   ]
  },
  {
   "cell_type": "code",
   "execution_count": null,
   "metadata": {
    "colab": {
     "base_uri": "https://localhost:8080/"
    },
    "id": "bfARYVXgInfR",
    "outputId": "5d0dfe2c-8c96-4b18-921e-6f718453d580"
   },
   "outputs": [
    {
     "name": "stdout",
     "output_type": "stream",
     "text": [
      "hello\n",
      "5\n",
      "hello ,ali\n"
     ]
    }
   ],
   "source": [
    "word1 = 'hello'\n",
    "word2 = \"ahmed\" # String literals can use single quotes or double\n",
    "\n",
    "print(word1) # Prints \"hello\"\n",
    "\n",
    "print(len(word1)) # String length; prints \"5\"\n",
    "\n",
    "hw = word1 + ' ' + \",ali\"     # String concatenation done by + operator\n",
    "\n",
    "print(hw) # prints \"hello world\""
   ]
  },
  {
   "cell_type": "code",
   "execution_count": null,
   "metadata": {
    "colab": {
     "base_uri": "https://localhost:8080/"
    },
    "id": "TA22rFCoKMcJ",
    "outputId": "da7374e3-e2ee-4b84-81fa-8bd47d6a26a1"
   },
   "outputs": [
    {
     "name": "stdout",
     "output_type": "stream",
     "text": [
      "hello ahmed 12\n",
      "hello ahmed 12\n",
      "hello ahmed12\n"
     ]
    }
   ],
   "source": [
    "hw12 = '%s %s %d' % (word1, word2,   12) # sprintf style string formatting    s for string,  d for digits , spaces between () doesn't matter\n",
    "print(hw12) # prints \"hello world 12\"\n",
    "hw12 = f'{word1} {word2} {    12}'   # another way for printing\n",
    "print(hw12) # prints \"hello world 12\"\n",
    "hw12 = word1 + ' ' + word2 + str(12)\n",
    "print(hw12) # prints \"hello world 12\""
   ]
  },
  {
   "cell_type": "code",
   "execution_count": null,
   "metadata": {
    "colab": {
     "base_uri": "https://localhost:8080/",
     "height": 36
    },
    "id": "g0UB-xM0Kv_V",
    "outputId": "3c7ffeb8-05d9-483d-c0a1-cfd6df4b6c49"
   },
   "outputs": [
    {
     "data": {
      "application/vnd.google.colaboratory.intrinsic+json": {
       "type": "string"
      },
      "text/plain": [
       "'HI, MY NAME IS PETER'"
      ]
     },
     "execution_count": 76,
     "metadata": {},
     "output_type": "execute_result"
    }
   ],
   "source": [
    "# helpful functions to deal with strings\n",
    "name = 'peter'\n",
    "message = f'Hi, my name is {name}'\n",
    "print(message.upper()) # to convert to uppercase\n",
    "print(message.lower()) # to convert to lowercase\n",
    "print(message.title()) # to capitalize the first letter of every word\n",
    "print(message.capitalize())  # another way for capitalizing\n",
    "print(message.find('p')) # returns the index of the first occurrence of p (or -1 if not found)\n",
    "print(message.replace('p', 'q'))     # can be replaced by word\n",
    "\n",
    "message    # doesn't change , in the last line in cell you don't have to write print"
   ]
  },
  {
   "cell_type": "code",
   "execution_count": null,
   "metadata": {
    "colab": {
     "base_uri": "https://localhost:8080/"
    },
    "id": "8DQMYOfAMEck",
    "outputId": "1e2e172c-af95-465c-95b5-0d9a181338a2"
   },
   "outputs": [
    {
     "name": "stdout",
     "output_type": "stream",
     "text": [
      "0\n",
      "            hello\n",
      " hello \n",
      "hello world\n"
     ]
    }
   ],
   "source": [
    "s = \"hello\"\n",
    "print(s.count('w')) # returns the number of occurrences of substring\n",
    "\n",
    "# those functions work if the string length is less than the given number len(s)= 5 < 17 and < 7\n",
    "print(s.rjust(17)) # last char in position 17\n",
    "print(s.center(7)) # Center a string, padding with spaces; prints \" hello \"\n",
    "print('               hello world '.strip()) # remove whitespaces from the beginning and the end , prints \"hello world\""
   ]
  },
  {
   "cell_type": "code",
   "execution_count": null,
   "metadata": {
    "colab": {
     "base_uri": "https://localhost:8080/"
    },
    "id": "xNMNUpKMS0_J",
    "outputId": "6e692b35-5ba5-48ac-aeb7-d4449bb7f0ca"
   },
   "outputs": [
    {
     "name": "stdout",
     "output_type": "stream",
     "text": [
      "['welcome', 'to', 'the', 'jungle']\n"
     ]
    }
   ],
   "source": [
    "txt = \"welcome to the jungle\"\n",
    "\n",
    "x = txt.split()   # will split after every space\n",
    "\n",
    "print(x)"
   ]
  },
  {
   "cell_type": "code",
   "execution_count": null,
   "metadata": {
    "colab": {
     "base_uri": "https://localhost:8080/"
    },
    "id": "2lPRY2PjSviQ",
    "outputId": "e9dd6876-c4bd-4608-c6a1-8dca599d97ad"
   },
   "outputs": [
    {
     "name": "stdout",
     "output_type": "stream",
     "text": [
      "['hello', ' my name is Peter', ' I am 26 years old']\n"
     ]
    }
   ],
   "source": [
    "txt = \"hello, my name is Peter, I am 26 years old\"\n",
    "\n",
    "x = txt.split(\", \") # will split after every \", \"\n",
    "# x = txt.split(\",\") # will split after every \",\"\n",
    "print(x)"
   ]
  },
  {
   "cell_type": "code",
   "execution_count": null,
   "metadata": {
    "id": "KAqiqK8OPDZA"
   },
   "outputs": [],
   "source": [
    "# to store data for multiple users we can't use variable for every thing like\n",
    "\n",
    "name1 = \"ali\"\n",
    "name2 = \"ahmed\"\n",
    "age1 = 10\n",
    "age2 = 14\n",
    "# so we need list"
   ]
  },
  {
   "cell_type": "markdown",
   "metadata": {
    "id": "YYx9oTUB_0M2"
   },
   "source": [
    "lists"
   ]
  },
  {
   "cell_type": "code",
   "execution_count": null,
   "metadata": {
    "colab": {
     "base_uri": "https://localhost:8080/"
    },
    "id": "UpK1nNtXO_AE",
    "outputId": "3abd13ea-392d-423d-bbe5-f243be6ea755"
   },
   "outputs": [
    {
     "name": "stdout",
     "output_type": "stream",
     "text": [
      "[30, 11, 25]\n"
     ]
    }
   ],
   "source": [
    "ages = [30, 11, 25]      # Create a list\n",
    "print(ages) # Prints \"[3, 1, 2]\""
   ]
  },
  {
   "cell_type": "code",
   "execution_count": null,
   "metadata": {
    "colab": {
     "base_uri": "https://localhost:8080/"
    },
    "id": "jTtpWIVw9_U0",
    "outputId": "37696448-1120-469d-9c4f-60d5c3abe71b"
   },
   "outputs": [
    {
     "name": "stdout",
     "output_type": "stream",
     "text": [
      "25\n",
      "25\n"
     ]
    }
   ],
   "source": [
    "print( ages[2])\n",
    "print(ages[-1]) # Negative indices count from the end of the list; prints \"2\""
   ]
  },
  {
   "cell_type": "code",
   "execution_count": null,
   "metadata": {
    "colab": {
     "base_uri": "https://localhost:8080/"
    },
    "id": "ImWkau-B-FnD",
    "outputId": "2404b26c-02ae-4958-90e7-893b4330e243"
   },
   "outputs": [
    {
     "name": "stdout",
     "output_type": "stream",
     "text": [
      "[30, 11, 'foo']\n"
     ]
    }
   ],
   "source": [
    "ages[2] = 'foo' # Lists can contain elements of different types   and i can change any element in it\n",
    "print(ages) # Prints \"[3, 1, 'foo']\""
   ]
  },
  {
   "cell_type": "code",
   "execution_count": null,
   "metadata": {
    "colab": {
     "base_uri": "https://localhost:8080/"
    },
    "id": "2dWQT_aJ-N1L",
    "outputId": "9e9c6a61-2db6-4fac-db1b-0eae7d5f92a7"
   },
   "outputs": [
    {
     "name": "stdout",
     "output_type": "stream",
     "text": [
      "[30, 11, 'foo', 'bar']\n",
      "[30, 11, 'foo']\n"
     ]
    }
   ],
   "source": [
    "ages.append('bar') # Add a new element to the end of the lis\n",
    "print(ages) # Prints \"[3, 1, 'foo', 'bar']\"\n",
    "ages.pop() # Remove and return the last element of the list\n",
    "print(ages) # Prints \"[3, 1, 'foo']\""
   ]
  },
  {
   "cell_type": "code",
   "execution_count": null,
   "metadata": {
    "colab": {
     "base_uri": "https://localhost:8080/"
    },
    "id": "dNj1knf4-W-t",
    "outputId": "de513e47-0a7e-4333-9ba2-4677b43ff4d9"
   },
   "outputs": [
    {
     "name": "stdout",
     "output_type": "stream",
     "text": [
      "[6, 30, 11, 'foo', 6]\n",
      "[30, 11, 'foo', 6]\n"
     ]
    }
   ],
   "source": [
    "ages.insert(0, 6) # adds 6 at index position of 0\n",
    "ages.insert(4, 6) # adds 6 at index position of 4\n",
    "print(ages)\n",
    "ages.remove(6) # removes the first 6 in the list\n",
    "print(ages)"
   ]
  },
  {
   "cell_type": "code",
   "execution_count": null,
   "metadata": {
    "colab": {
     "base_uri": "https://localhost:8080/"
    },
    "id": "DsbJbXid-zze",
    "outputId": "07d394e1-bf7d-47a9-90c5-155bb6f1396f"
   },
   "outputs": [
    {
     "name": "stdout",
     "output_type": "stream",
     "text": [
      "4\n"
     ]
    }
   ],
   "source": [
    "ages.append(8)\n",
    "print(ages.index(8)) # returns the index of first occurrence of 8\n"
   ]
  },
  {
   "cell_type": "code",
   "execution_count": null,
   "metadata": {
    "colab": {
     "base_uri": "https://localhost:8080/"
    },
    "id": "h_LuceB9_iVw",
    "outputId": "810ffc59-fba1-4f7a-bea9-893ef6919d80"
   },
   "outputs": [
    {
     "name": "stdout",
     "output_type": "stream",
     "text": [
      "[8, 6, 'foo', 11, 30]\n"
     ]
    },
    {
     "data": {
      "text/plain": [
       "[30, 11, 'foo', 6, 8]"
      ]
     },
     "execution_count": 39,
     "metadata": {},
     "output_type": "execute_result"
    }
   ],
   "source": [
    "cpy = ages.copy()    # to have copy from the data (if you change the copied , the real data will not changed and viceversa )\n",
    "cpy.reverse() # reverses the list  and ages will be changed i don't have to write ages = ages.reverse\n",
    "print(cpy)\n",
    "ages"
   ]
  },
  {
   "cell_type": "code",
   "execution_count": null,
   "metadata": {
    "colab": {
     "base_uri": "https://localhost:8080/"
    },
    "id": "mg-YJ6Ox-5rV",
    "outputId": "a8e26cbf-8c5a-4301-f390-efaa31687ab7"
   },
   "outputs": [
    {
     "name": "stdout",
     "output_type": "stream",
     "text": [
      "5\n",
      "0\n",
      "[]\n"
     ]
    }
   ],
   "source": [
    "print(len(ages))     # will print the length of the list\n",
    "ages.clear() # removes all the items\n",
    "print(len(ages))\n",
    "print(ages)"
   ]
  },
  {
   "cell_type": "markdown",
   "metadata": {
    "id": "8frTHZcnOo1U"
   },
   "source": [
    "slicing"
   ]
  },
  {
   "cell_type": "code",
   "execution_count": null,
   "metadata": {
    "colab": {
     "base_uri": "https://localhost:8080/"
    },
    "id": "xS-rPoRrPmBU",
    "outputId": "f0560929-4e20-4c72-dd1f-88ecadae4b44"
   },
   "outputs": [
    {
     "name": "stdout",
     "output_type": "stream",
     "text": [
      "nums [0, 1, 2, 3, 4]\n"
     ]
    }
   ],
   "source": [
    "nums = list(range(5)) # range is a built-in function that creates a list of integers\n",
    "print(\"nums\",nums) # Prints \"[0, 1, 2, 3, 4]\""
   ]
  },
  {
   "cell_type": "code",
   "execution_count": null,
   "metadata": {
    "colab": {
     "base_uri": "https://localhost:8080/"
    },
    "id": "E3BIIqjzAAvi",
    "outputId": "6d9346c1-ce81-487b-d223-8b2d2c1a0294"
   },
   "outputs": [
    {
     "name": "stdout",
     "output_type": "stream",
     "text": [
      "[2, 3]\n"
     ]
    }
   ],
   "source": [
    "print(nums[2:4]) # Get a slice from index 2 to 4 (exclusive); prints \"[2, 3]\""
   ]
  },
  {
   "cell_type": "code",
   "execution_count": null,
   "metadata": {
    "colab": {
     "base_uri": "https://localhost:8080/"
    },
    "id": "W4Qug_XFAGRX",
    "outputId": "fee182a0-65a5-47b7-f66a-6a8a85a8310e"
   },
   "outputs": [
    {
     "name": "stdout",
     "output_type": "stream",
     "text": [
      "[2, 3, 4]\n",
      "[0, 1]\n",
      "[0, 1, 2, 3, 4]\n"
     ]
    }
   ],
   "source": [
    "print(nums[2:]) # Get a slice from index 2 to the end; prints \"[2, 3, 4]\"\n",
    "print(nums[:2]) # Get a slice from the start to index 2 (exclusive); prints \"[0, 1]\"\n",
    "print(nums[:]) # Get a slice of the whole list; prints \"[0, 1, 2, 3, 4]\""
   ]
  },
  {
   "cell_type": "code",
   "execution_count": null,
   "metadata": {
    "colab": {
     "base_uri": "https://localhost:8080/"
    },
    "id": "yz6O-y8qAJvB",
    "outputId": "0bab9379-6295-491e-8190-f95b48beba53"
   },
   "outputs": [
    {
     "name": "stdout",
     "output_type": "stream",
     "text": [
      "[0, 1, 2, 3]\n",
      "[2, 3]\n"
     ]
    }
   ],
   "source": [
    "print(nums[:-1]) # Slice indices can be negative; prints \"[0, 1, 2, 3]\"\n",
    "print(nums[-3:-1])"
   ]
  },
  {
   "cell_type": "code",
   "execution_count": null,
   "metadata": {
    "colab": {
     "base_uri": "https://localhost:8080/"
    },
    "id": "WmmxnjUfAMto",
    "outputId": "c83cbd4f-d8c0-4c19-f35b-7dff7f64c69a"
   },
   "outputs": [
    {
     "name": "stdout",
     "output_type": "stream",
     "text": [
      "[0, 1, 2, 3, 4]\n",
      "[0, 1, 8, 9, 4]\n"
     ]
    }
   ],
   "source": [
    "print(nums)\n",
    "nums[2:4] = [8, 9] # Assign a new sublist to a slice or we can say to change the data in the list\n",
    "print(nums)"
   ]
  },
  {
   "cell_type": "code",
   "execution_count": null,
   "metadata": {
    "colab": {
     "base_uri": "https://localhost:8080/"
    },
    "id": "6YNnyD-9M8Fz",
    "outputId": "5f742e6f-15a0-494d-c960-ab10ec2f817c"
   },
   "outputs": [
    {
     "name": "stdout",
     "output_type": "stream",
     "text": [
      "M\n",
      "a\n"
     ]
    }
   ],
   "source": [
    "course = 'Machine Learning'          # strings treated as list\n",
    "print(course[0]) # returns the first character\n",
    "print(course[1]) # returns the second character"
   ]
  },
  {
   "cell_type": "code",
   "execution_count": null,
   "metadata": {
    "colab": {
     "base_uri": "https://localhost:8080/"
    },
    "id": "xo1Kh5FwAq5L",
    "outputId": "a5896a0e-c3e1-4d51-d8fc-d5487450fe49"
   },
   "outputs": [
    {
     "name": "stdout",
     "output_type": "stream",
     "text": [
      "g\n",
      "n\n"
     ]
    }
   ],
   "source": [
    "print(course[-1]) # returns the first character from the end\n",
    "print(course[-2]) # returns the second character from the end"
   ]
  },
  {
   "cell_type": "code",
   "execution_count": null,
   "metadata": {
    "colab": {
     "base_uri": "https://localhost:8080/",
     "height": 36
    },
    "id": "9Dd6YCFQO03y",
    "outputId": "c0562bfe-7dca-4172-d9a1-c6a296db0466"
   },
   "outputs": [
    {
     "data": {
      "application/vnd.google.colaboratory.intrinsic+json": {
       "type": "string"
      },
      "text/plain": [
       "'achi'"
      ]
     },
     "execution_count": 90,
     "metadata": {},
     "output_type": "execute_result"
    }
   ],
   "source": [
    "course[1:5]"
   ]
  },
  {
   "cell_type": "markdown",
   "metadata": {
    "id": "kW9F0ocxGzB5"
   },
   "source": [
    "boolean and logical operators"
   ]
  },
  {
   "cell_type": "code",
   "execution_count": null,
   "metadata": {
    "colab": {
     "background_save": true,
     "base_uri": "https://localhost:8080/"
    },
    "id": "vh22UU1tIHEG",
    "outputId": "b5236132-d4ed-4f5b-952f-5584f75c2705"
   },
   "outputs": [
    {
     "name": "stdout",
     "output_type": "stream",
     "text": [
      "<class 'bool'>\n",
      "False\n",
      "True\n",
      "False\n",
      "True\n",
      "True\n",
      "False\n"
     ]
    }
   ],
   "source": [
    "t = True      # bool variables are used to check something\n",
    "f = False\n",
    "print(type(t)) # Prints \"<class 'bool'>\"\n",
    "print(t and f) # Logical AND; prints \"False\"           multiply\n",
    "print(t or f) # Logical OR; prints \"True\"              add\n",
    "print(not t) # Logical NOT; prints \"False\"\n",
    "print(~t) # Logical NOT; prints \"False\"   another way \n",
    "print(t != f) # Logical XOR; prints \"True\"\n",
    "print(t ^ f)  # Logical XOR;"
   ]
  },
  {
   "cell_type": "code",
   "execution_count": null,
   "metadata": {
    "colab": {
     "base_uri": "https://localhost:8080/"
    },
    "id": "vcw3-R2xQOlH",
    "outputId": "8751f3a6-a8ef-4765-f33b-758f28d584e6"
   },
   "outputs": [
    {
     "name": "stdout",
     "output_type": "stream",
     "text": [
      "True\n",
      "False\n",
      "True\n",
      "True\n",
      "False\n",
      "True\n"
     ]
    }
   ],
   "source": [
    "a = 5;    # semi colon is optional\n",
    "b = 9\n",
    "\n",
    "print(a < b)       # if i print any logical operators it will print the boolean result\n",
    "print(a >= b) #( is a greater than or equal b)\n",
    "print(a < b)  # is a is less than b\n",
    "print(a <= b) # is a less than or equal b\n",
    "print(a == b) #(equals)\n",
    "print(a != b)  # is a not equal b"
   ]
  },
  {
   "cell_type": "markdown",
   "metadata": {
    "id": "JcgA460zBivO"
   },
   "source": [
    "IF condition"
   ]
  },
  {
   "cell_type": "code",
   "execution_count": null,
   "metadata": {
    "id": "m0eO5bnnSITu"
   },
   "outputs": [],
   "source": [
    "is_hot = False\n",
    "is_cold = False\n",
    "\n",
    "if is_hot:\n",
    "  print(\"hot day\")\n",
    "elif is_cold:\n",
    "  print(\"cold day\")\n",
    "else:\n",
    "  print(\"beautiful day\")"
   ]
  },
  {
   "cell_type": "code",
   "execution_count": null,
   "metadata": {
    "colab": {
     "base_uri": "https://localhost:8080/"
    },
    "id": "f7HGG78UBndZ",
    "outputId": "c041de9c-25f9-471a-c06f-059a48102aa1"
   },
   "outputs": [
    {
     "name": "stdout",
     "output_type": "stream",
     "text": [
      "A\n"
     ]
    }
   ],
   "source": [
    "grade = 90\n",
    "if grade >= 90:\n",
    "  print(\"A\")\n",
    "elif grade >= 80:    # elif means else if\n",
    "  print(\"B\")\n",
    "elif grade >= 70:  # if any of the above conditions is true it will not check the other conditions\n",
    "  print(\"C\")\n",
    "elif grade >= 60:\n",
    "  print(\"D\")\n",
    "else:\n",
    "  print(\"F\")"
   ]
  },
  {
   "cell_type": "code",
   "execution_count": null,
   "metadata": {
    "id": "4yA--vbxVwSz"
   },
   "outputs": [],
   "source": [
    " print(4)   # error because the space"
   ]
  },
  {
   "cell_type": "code",
   "execution_count": null,
   "metadata": {
    "colab": {
     "base_uri": "https://localhost:8080/"
    },
    "id": "ZbERzu4Tw6PJ",
    "outputId": "4d9a9f0a-4ea3-4841-b770-5aef4b9c9ecd"
   },
   "outputs": [
    {
     "name": "stdout",
     "output_type": "stream",
     "text": [
      "no\n"
     ]
    }
   ],
   "source": [
    "if 4 > 2 | 2 > 3:   # | means or , you can write any of them\n",
    "  print('yes')\n",
    "else: print('no')"
   ]
  },
  {
   "cell_type": "code",
   "execution_count": null,
   "metadata": {
    "colab": {
     "base_uri": "https://localhost:8080/"
    },
    "id": "wb2c8sjgtyvX",
    "outputId": "2eb618e8-4440-4b84-cc01-7518c847d0da"
   },
   "outputs": [
    {
     "name": "stdout",
     "output_type": "stream",
     "text": [
      "yes\n"
     ]
    }
   ],
   "source": [
    "age = 25\n",
    "is_succeded = True\n",
    "if age > 23 & is_succeded:   # & means and  , you can write any of them\n",
    "  print('yes')\n",
    "else: print('no')"
   ]
  },
  {
   "cell_type": "code",
   "execution_count": null,
   "metadata": {
    "colab": {
     "base_uri": "https://localhost:8080/"
    },
    "id": "B1bj47qbuJuu",
    "outputId": "4e622c72-bfe4-4705-d067-fb210735abd6"
   },
   "outputs": [
    {
     "name": "stdout",
     "output_type": "stream",
     "text": [
      "u can create account\n"
     ]
    }
   ],
   "source": [
    "country = 'egypt'\n",
    "age = 20\n",
    "\n",
    "if( (age >=25 or country == 'egypt') and is_succeded):\n",
    "    print(\"u can create account\")"
   ]
  },
  {
   "cell_type": "markdown",
   "metadata": {
    "id": "ayNU1k6jFosD"
   },
   "source": [
    "additional resources:\n",
    "\n",
    "https://www.youtube.com/watch?v=rfscVS0vtbw&t=14902s&pp=ygUHcHl0aG9uIA%3D%3D\n",
    "\n",
    "https://www.youtube.com/playlist?list=PLDoPjvoNmBAyE_gei5d18qkfIe-Z8mocs\n",
    "\n",
    "https://www.w3schools.com/python/python_intro.asp\n",
    "\n",
    "https://www.geeksforgeeks.org/introduction-to-python\n",
    "\n",
    "try to have the skill of searching for solutions or for another resources\n",
    "if you have any problem feel free to ask\n"
   ]
  },
  {
   "cell_type": "code",
   "execution_count": null,
   "metadata": {
    "id": "5WJLEuJ8Fn5U"
   },
   "outputs": [],
   "source": []
  },
  {
   "cell_type": "code",
   "execution_count": null,
   "metadata": {
    "id": "l1XOCDC7ueU1"
   },
   "outputs": [],
   "source": []
  },
  {
   "cell_type": "code",
   "execution_count": null,
   "metadata": {
    "id": "JH1CfOapugk0"
   },
   "outputs": [],
   "source": []
  },
  {
   "cell_type": "code",
   "execution_count": null,
   "metadata": {
    "id": "mcXh5Pyuup_B"
   },
   "outputs": [],
   "source": []
  },
  {
   "cell_type": "code",
   "execution_count": null,
   "metadata": {
    "id": "Ap-8LkiXu9FE"
   },
   "outputs": [],
   "source": []
  },
  {
   "cell_type": "code",
   "execution_count": null,
   "metadata": {
    "id": "k0VtR1YNWF9H"
   },
   "outputs": [],
   "source": []
  },
  {
   "cell_type": "code",
   "execution_count": null,
   "metadata": {
    "id": "iphvLamptDdT"
   },
   "outputs": [],
   "source": []
  },
  {
   "cell_type": "code",
   "execution_count": null,
   "metadata": {
    "id": "hoNNLK1vXskp"
   },
   "outputs": [],
   "source": []
  },
  {
   "cell_type": "code",
   "execution_count": null,
   "metadata": {
    "id": "gtspqX-JWISX"
   },
   "outputs": [],
   "source": []
  },
  {
   "cell_type": "code",
   "execution_count": null,
   "metadata": {
    "id": "A-vS_wvdX4Fe"
   },
   "outputs": [],
   "source": []
  },
  {
   "cell_type": "code",
   "execution_count": null,
   "metadata": {
    "id": "iVuyt9yFX9du"
   },
   "outputs": [],
   "source": []
  },
  {
   "cell_type": "code",
   "execution_count": null,
   "metadata": {
    "id": "Itoa_WpvWSrt"
   },
   "outputs": [],
   "source": []
  },
  {
   "cell_type": "code",
   "execution_count": null,
   "metadata": {
    "id": "SlqGslyeX2VV"
   },
   "outputs": [],
   "source": []
  },
  {
   "cell_type": "code",
   "execution_count": null,
   "metadata": {
    "id": "ICpK8nH1YF4R"
   },
   "outputs": [],
   "source": []
  },
  {
   "cell_type": "code",
   "execution_count": null,
   "metadata": {
    "id": "gMo_brMbYT7d"
   },
   "outputs": [],
   "source": []
  },
  {
   "cell_type": "code",
   "execution_count": null,
   "metadata": {
    "id": "fBhejAogr9Sv"
   },
   "outputs": [],
   "source": []
  }
 ],
 "metadata": {
  "colab": {
   "authorship_tag": "ABX9TyOg8qnxVD99/GZJjHxtm3EY",
   "include_colab_link": true,
   "provenance": []
  },
  "kernelspec": {
   "display_name": "Python 3 (ipykernel)",
   "language": "python",
   "name": "python3"
  },
  "language_info": {
   "codemirror_mode": {
    "name": "ipython",
    "version": 3
   },
   "file_extension": ".py",
   "mimetype": "text/x-python",
   "name": "python",
   "nbconvert_exporter": "python",
   "pygments_lexer": "ipython3",
   "version": "3.11.9"
  }
 },
 "nbformat": 4,
 "nbformat_minor": 4
}
