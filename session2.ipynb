{
  "cells": [
    {
      "cell_type": "markdown",
      "metadata": {},
      "source": [
        "problems"
      ]
    },
    {
      "cell_type": "code",
      "execution_count": 2,
      "metadata": {},
      "outputs": [],
      "source": [
        "# say hello\n",
        "print('hello',input())"
      ]
    },
    {
      "cell_type": "code",
      "execution_count": null,
      "metadata": {},
      "outputs": [],
      "source": [
        "# basic datatype\n",
        "print(*input().split(),sep='\\n')\n",
        "# print(input().replace(\" \",\"\\n\"))\n"
      ]
    },
    {
      "cell_type": "code",
      "execution_count": null,
      "metadata": {},
      "outputs": [],
      "source": [
        "numbers = [1, 2, 3, 4, 5]\n",
        "print(*numbers)\n",
        "\n",
        "# x = \"Hello world this is a test\"\n",
        "# input().split() splits this into the list: [\"Hello\", \"world\", \"this\", \"is\", \"a\", \"test\"].\n",
        "# * unpacks this list into individual arguments: print(\"Hello\", \"world\", \"this\", \"is\", \"a\", \"test\", sep='\\n')."
      ]
    },
    {
      "cell_type": "code",
      "execution_count": null,
      "metadata": {},
      "outputs": [],
      "source": [
        "# simple calculator\n",
        "x,y=map(int,input().split())  # This applies the int function to each element in the list returned by input().split()\n",
        "\n",
        "# x= input()   # wrong\n",
        "# y=input()\n",
        "# x,y = input().split()   # wrong\n",
        "# x,y=int(input().split())  wrong\n",
        "\n",
        "print(x,y)\n",
        "print(x,\"+\",y,\"=\",x+y)\n",
        "print(x,\"*\",y,\"=\",x*y)\n",
        "print(x,\"-\",y,\"=\",x-y)"
      ]
    },
    {
      "cell_type": "code",
      "execution_count": null,
      "metadata": {},
      "outputs": [],
      "source": [
        "# difference\n",
        "a,b,c,d=map(int,input().split())\n",
        "print(\"Difference =\",a*b-c*d)"
      ]
    },
    {
      "cell_type": "code",
      "execution_count": null,
      "metadata": {},
      "outputs": [],
      "source": [
        "# area of the circle\n",
        "print(3.141592653*float(input())**2)"
      ]
    },
    {
      "cell_type": "code",
      "execution_count": null,
      "metadata": {},
      "outputs": [],
      "source": [
        "# Digits Summation\n",
        "x,y=map(int,input().split())\n",
        "print(x%10+y%10)"
      ]
    },
    {
      "cell_type": "code",
      "execution_count": null,
      "metadata": {},
      "outputs": [],
      "source": [
        "# welcome to conditions\n",
        "a,b=map(int,input().split())\n",
        "print(\"Yes\" if a>=b) # else \"No\")  #  if you don't write else it will not work\n",
        "\n",
        "# if a>=b:\n",
        "#   print(\"yes\")"
      ]
    },
    {
      "cell_type": "code",
      "execution_count": null,
      "metadata": {},
      "outputs": [],
      "source": [
        "# multilplies\n",
        "a,b=map(int,input().split())\n",
        "print('Multiples' if a%b==0 or b%a==0 else 'No Multiples')"
      ]
    },
    {
      "cell_type": "code",
      "execution_count": null,
      "metadata": {},
      "outputs": [],
      "source": [
        "# max and min\n",
        "l=*map(int,input().split()),\n",
        "print(min(l),max(l))\n",
        "x=l[0]\n",
        "y = l[1]\n",
        "z = l[2]\n",
        "\n",
        "# if(x > y and x > z):\n",
        "#   print(x)\n",
        "#   if(y>z): print(y,' ',z)\n",
        "#   else: print(z,' ',y)\n",
        "# elif (y > x and y > z):\n",
        "#   print(y)\n",
        "#   if(x>z): print(x,' ',z)\n",
        "#   else: print(z,' ',y)"
      ]
    },
    {
      "cell_type": "code",
      "execution_count": null,
      "metadata": {},
      "outputs": [],
      "source": [
        "# are brothers\n",
        "x= input().split();y=input().split()\n",
        "print(\"ARE Brothers\" if x[1]==y[1] else \"NOT\")"
      ]
    },
    {
      "cell_type": "code",
      "execution_count": null,
      "metadata": {},
      "outputs": [],
      "source": [
        "#  Capital or Small or Digit,\n",
        "x=input()\n",
        "print(\"IS DIGIT\" if x.isdigit() else \"ALPHA\" )\n",
        "if x.isalpha(): print(\"IS CAPITAL\" if x.isupper() else  \"IS SMALL\")\n",
        "\n",
        "# ch = str(input())\n",
        "# if ch.isupper():\n",
        "#  print(\"ALPHA\\nIS CAPITAL\")\n",
        "# elif ch.islower():\n",
        "#  print(\"ALPHA\\nIS SMALL\")\n",
        "# else:\n",
        "#  print(\"IS DIGIT\")"
      ]
    },
    {
      "cell_type": "code",
      "execution_count": null,
      "metadata": {},
      "outputs": [],
      "source": [
        "# N char\n",
        "print(input().swapcase())"
      ]
    },
    {
      "cell_type": "code",
      "execution_count": null,
      "metadata": {},
      "outputs": [],
      "source": [
        "# calculator\n",
        "# eval(): This function parses the input string as a Python expression and evaluates it.\n",
        "print(int(eval(input())))    \n",
        "\n",
        "h=input()   # 70000000000000000+4\n",
        "symbol=\"+-/*\"\n",
        "\n",
        "for i in h:\n",
        "    if i in symbol:\n",
        "        S=i\n",
        "        L=h.split(i)\n",
        " \n",
        "A=int(L[0])\n",
        "B=int(L[1])\n",
        " \n",
        "if S==\"+\":\n",
        "    print(A+B)\n",
        "elif S==\"-\":\n",
        "    print(A-B)\n",
        "elif S==\"*\":\n",
        "    print(A*B)\n",
        "else:\n",
        "    print(A//B)"
      ]
    },
    {
      "cell_type": "markdown",
      "metadata": {
        "id": "fkSGvMHqCDrU"
      },
      "source": [
        "LOOPS"
      ]
    },
    {
      "cell_type": "code",
      "execution_count": 1,
      "metadata": {
        "colab": {
          "base_uri": "https://localhost:8080/"
        },
        "id": "A2dNdkksB_GS",
        "outputId": "704a3eda-848e-46ef-8b45-f1a815fe8408"
      },
      "outputs": [
        {
          "name": "stdout",
          "output_type": "stream",
          "text": [
            "1\n",
            "1\n",
            "1\n",
            "1\n"
          ]
        }
      ],
      "source": [
        "i = 1;  j = 1\n",
        "while i < 5 # and j < 5:      # () are optional\n",
        "  print(i)\n",
        "  j += 1\n",
        "  # i += 1"
      ]
    },
    {
      "cell_type": "code",
      "execution_count": 3,
      "metadata": {
        "colab": {
          "base_uri": "https://localhost:8080/"
        },
        "id": "qZDbrq_UCHza",
        "outputId": "6410c0b3-ced0-4415-aaa3-c0d0fb9a35c3"
      },
      "outputs": [
        {
          "name": "stdout",
          "output_type": "stream",
          "text": [
            "1\n",
            "4\n"
          ]
        }
      ],
      "source": [
        "for i in range(1, 5, 3):\n",
        "  print(i)"
      ]
    },
    {
      "cell_type": "code",
      "execution_count": null,
      "metadata": {
        "id": "ojGeuzHUCJCt"
      },
      "outputs": [],
      "source": [
        "names = ['ali', 'ahmed', 'mohamed']\n",
        "for name in names:\n",
        "  print(name)"
      ]
    },
    {
      "cell_type": "code",
      "execution_count": null,
      "metadata": {
        "colab": {
          "base_uri": "https://localhost:8080/"
        },
        "id": "Zt6TNgTQCPv9",
        "outputId": "93e28d3d-5062-4e09-9766-3d0a26f5b8d8"
      },
      "outputs": [
        {
          "name": "stdout",
          "output_type": "stream",
          "text": [
            "['cat', 'dog', 'monkey']\n",
            "cat\n",
            "dog\n",
            "monkey\n"
          ]
        }
      ],
      "source": [
        "animals = ['cat', 'dog', 'monkey']\n",
        "print(animals)\n",
        "for animal in animals:\n",
        "  print(animal)"
      ]
    },
    {
      "cell_type": "code",
      "execution_count": 60,
      "metadata": {
        "colab": {
          "base_uri": "https://localhost:8080/"
        },
        "id": "z5DCuGpWGGll",
        "outputId": "d4c810a1-2ede-48ba-9fa2-92259ee508af"
      },
      "outputs": [
        {
          "name": "stdout",
          "output_type": "stream",
          "text": [
            "cat\n",
            "dog\n",
            "monkey\n"
          ]
        }
      ],
      "source": [
        "for i in range(len(animals)):\n",
        "  print(animals[i])"
      ]
    },
    {
      "cell_type": "code",
      "execution_count": 61,
      "metadata": {
        "colab": {
          "base_uri": "https://localhost:8080/"
        },
        "id": "w4AocxThCP97",
        "outputId": "640f6bee-3b65-4b93-8b7f-c80518748981"
      },
      "outputs": [
        {
          "name": "stdout",
          "output_type": "stream",
          "text": [
            "[0, 1, 4, 9, 16]\n"
          ]
        }
      ],
      "source": [
        "nums = [0, 1, 2, 3, 4]\n",
        "# squares = []\n",
        "# for x in nums:\n",
        "#   squares.append(x ** 2)\n",
        "squares = [i**2 for i in nums]\n",
        "print(squares)"
      ]
    },
    {
      "cell_type": "code",
      "execution_count": null,
      "metadata": {
        "id": "LAtnnAkfCdoP"
      },
      "outputs": [],
      "source": [
        "N = 5\n",
        "arr = [0 for i in range(N)]\n",
        "print(arr)"
      ]
    },
    {
      "cell_type": "code",
      "execution_count": 4,
      "metadata": {
        "id": "Fza5DKM6CeiW"
      },
      "outputs": [
        {
          "name": "stdout",
          "output_type": "stream",
          "text": [
            "[0, 0, 0, 0, 0]\n"
          ]
        }
      ],
      "source": [
        "N = 5\n",
        "ar = [0]*N\n",
        "print(ar)"
      ]
    },
    {
      "cell_type": "code",
      "execution_count": null,
      "metadata": {
        "id": "OGzySc5LCf4c"
      },
      "outputs": [],
      "source": [
        "rows, cols = (5, 5)\n",
        "arr = [[[0]*cols]*rows * 2] * 1 * 3\n",
        "for row in arr:\n",
        "  print(row)"
      ]
    },
    {
      "cell_type": "code",
      "execution_count": 62,
      "metadata": {
        "colab": {
          "base_uri": "https://localhost:8080/"
        },
        "id": "8CeUC1WkCisI",
        "outputId": "26495874-055e-4f70-eef4-3a7543d48db2"
      },
      "outputs": [
        {
          "name": "stdout",
          "output_type": "stream",
          "text": [
            "[[[[[0, 0, 0], [0, 0, 0], [0, 0, 0]], [[0, 0, 0], [0, 0, 0], [0, 0, 0]], [[0, 0, 0], [0, 0, 0], [0, 0, 0]]], [[[0, 0, 0], [0, 0, 0], [0, 0, 0]], [[0, 0, 0], [0, 0, 0], [0, 0, 0]], [[0, 0, 0], [0, 0, 0], [0, 0, 0]]], [[[0, 0, 0], [0, 0, 0], [0, 0, 0]], [[0, 0, 0], [0, 0, 0], [0, 0, 0]], [[0, 0, 0], [0, 0, 0], [0, 0, 0]]]], [[[[0, 0, 0], [0, 0, 0], [0, 0, 0]], [[0, 0, 0], [0, 0, 0], [0, 0, 0]], [[0, 0, 0], [0, 0, 0], [0, 0, 0]]], [[[0, 0, 0], [0, 0, 0], [0, 0, 0]], [[0, 0, 0], [0, 0, 0], [0, 0, 0]], [[0, 0, 0], [0, 0, 0], [0, 0, 0]]], [[[0, 0, 0], [0, 0, 0], [0, 0, 0]], [[0, 0, 0], [0, 0, 0], [0, 0, 0]], [[0, 0, 0], [0, 0, 0], [0, 0, 0]]]], [[[[0, 0, 0], [0, 0, 0], [0, 0, 0]], [[0, 0, 0], [0, 0, 0], [0, 0, 0]], [[0, 0, 0], [0, 0, 0], [0, 0, 0]]], [[[0, 0, 0], [0, 0, 0], [0, 0, 0]], [[0, 0, 0], [0, 0, 0], [0, 0, 0]], [[0, 0, 0], [0, 0, 0], [0, 0, 0]]], [[[0, 0, 0], [0, 0, 0], [0, 0, 0]], [[0, 0, 0], [0, 0, 0], [0, 0, 0]], [[0, 0, 0], [0, 0, 0], [0, 0, 0]]]]]\n"
          ]
        }
      ],
      "source": [
        "dim1, dim2, dim3, dim4, dim5 = 3, 3, 3, 3, 3  # Example dimensions, you can change them\n",
        "\n",
        "array_5d = [[[[[0 for _ in range(dim5)] for _ in range(dim4)] for _ in range(dim3)] for _ in range(dim2)] for _ in range(dim1)]\n",
        "print(array_5d)"
      ]
    },
    {
      "cell_type": "code",
      "execution_count": 7,
      "metadata": {
        "id": "WNPSNse9CvDk"
      },
      "outputs": [
        {
          "name": "stdout",
          "output_type": "stream",
          "text": [
            "[[0, 0, 0, 0, 0], [0, 0, 0, 0, 0], [0, 0, 0, 0, 0], [0, 0, 0, 0, 0], [0, 0, 0, 0, 0]] before\n",
            "[[1, 0, 0, 0, 0], [1, 0, 0, 0, 0], [1, 0, 0, 0, 0], [1, 0, 0, 0, 0], [1, 0, 0, 0, 0]] after\n"
          ]
        }
      ],
      "source": [
        "rows, cols = (5, 5)\n",
        "arr = [[0]*cols]*rows        # you are creating multiple references to the same inner list.\n",
        "print(arr, \"before\")\n",
        "\n",
        "arr[0][0] = 1 # update only one element\n",
        "print(arr, \"after\")"
      ]
    },
    {
      "cell_type": "code",
      "execution_count": 8,
      "metadata": {
        "id": "vo6bPlR4Cwj2"
      },
      "outputs": [
        {
          "name": "stdout",
          "output_type": "stream",
          "text": [
            "[[0, 0, 0, 0, 0], [0, 0, 0, 0, 0], [0, 0, 0, 0, 0], [0, 0, 0, 0, 0], [0, 0, 0, 0, 0]] before\n",
            "[[1, 0, 0, 0, 0], [0, 0, 0, 0, 0], [0, 0, 0, 0, 0], [0, 0, 0, 0, 0], [0, 0, 0, 0, 0]] after\n"
          ]
        }
      ],
      "source": [
        "rows, cols = (5, 5)\n",
        "arr = [[0]*cols for _ in range(rows)]\n",
        "print(arr, \"before\")\n",
        "\n",
        "arr[0][0] = 1  # update only one element\n",
        "print(arr, \"after\")\n"
      ]
    },
    {
      "cell_type": "code",
      "execution_count": null,
      "metadata": {
        "id": "RXSkmbQZCyWu"
      },
      "outputs": [],
      "source": [
        "rows, cols = (5, 5)\n",
        "arr = [[0 for i in range(cols)] for j in range(rows)]\n",
        "print(arr)"
      ]
    },
    {
      "cell_type": "code",
      "execution_count": null,
      "metadata": {
        "id": "Y5QNl346Czu0"
      },
      "outputs": [],
      "source": [
        "rows, cols = (5, 5)\n",
        "for i in range(cols):\n",
        "  for j in range(rows):\n",
        "    arr[i][j] = 0\n",
        "    # arr[i].append(5)\n",
        "print(arr)"
      ]
    },
    {
      "cell_type": "code",
      "execution_count": null,
      "metadata": {
        "id": "xNNpBmo8C1GE"
      },
      "outputs": [],
      "source": [
        "arr=[]\n",
        "rows, cols=5,5\n",
        "for i in range(rows):\n",
        "    col = []\n",
        "    for j in range(cols):\n",
        "        col.append(0)\n",
        "    arr.append(col)\n",
        "print(arr)"
      ]
    },
    {
      "cell_type": "code",
      "execution_count": null,
      "metadata": {
        "id": "3WIgjR2PC2oW"
      },
      "outputs": [],
      "source": [
        "for row in arr:\n",
        "    print(row)"
      ]
    },
    {
      "cell_type": "markdown",
      "metadata": {
        "id": "vkfpcB_3pFIo"
      },
      "source": [
        "tuple"
      ]
    },
    {
      "cell_type": "code",
      "execution_count": 6,
      "metadata": {
        "colab": {
          "base_uri": "https://localhost:8080/"
        },
        "id": "WKO2DWL7pGds",
        "outputId": "7a5ee0bb-cade-445e-c190-245ed6125abe"
      },
      "outputs": [
        {
          "name": "stdout",
          "output_type": "stream",
          "text": [
            "Tuple: (1, 2, 3, 4, 5)\n",
            "First element of the tuple: 1\n",
            "Concatenated Tuple: (1, 2, 3, 4, 5, 6)\n",
            "Dictionary with a tuple key: {(1, 2, 3, 4, 5): 'A collection of numbers'}\n"
          ]
        }
      ],
      "source": [
        "my_tuple = (1, 2, 3, 4, 'end')\n",
        "print(\"Tuple:\", my_tuple)\n",
        "\n",
        "# Attempting to modify the tuple will raise an error\n",
        "# my_tuple[0] = 10  # This will raise a TypeError\n",
        "\n",
        "# Accessing elements in a tuple\n",
        "print(\"First element of the tuple:\", my_tuple[0])\n",
        "\n",
        "# Tuples can be concatenated to create a new tuple\n",
        "new_tuple = my_tuple + (6,)\n",
        "print(\"Concatenated Tuple:\", new_tuple)\n",
        "\n",
        "# Tuples can be used as keys in a dictionary because they are immutable\n",
        "my_dict = {my_tuple: \"A collection of numbers\"}\n",
        "print(\"Dictionary with a tuple key:\", my_dict)"
      ]
    },
    {
      "cell_type": "code",
      "execution_count": null,
      "metadata": {
        "id": "vLDMSB-apXO_"
      },
      "outputs": [],
      "source": [
        "# You cannot remove items in a tuple.\n",
        "thistuple = (\"apple\", \"banana\", \"cherry\")\n",
        "del thistuple\n",
        "print(thistuple) #this will raise an error because the tuple no longer exists"
      ]
    },
    {
      "cell_type": "markdown",
      "metadata": {
        "id": "M43osWZRodw7"
      },
      "source": [
        "enumerate"
      ]
    },
    {
      "cell_type": "code",
      "execution_count": 5,
      "metadata": {
        "colab": {
          "base_uri": "https://localhost:8080/"
        },
        "id": "TgXQkhu1CcXN",
        "outputId": "0963efe2-8176-4a70-bdb5-22b46efc0b7c"
      },
      "outputs": [
        {
          "name": "stdout",
          "output_type": "stream",
          "text": [
            "# 0 cat\n",
            "# 1 dog\n",
            "# 2 monkey\n"
          ]
        }
      ],
      "source": [
        "animals = ['cat', 'dog', 'monkey']\n",
        "for idx, animal in enumerate(animals):\n",
        "  # print('#%d: %s' % (idx + 1, animal))\n",
        "  print('#',idx,animals[idx])"
      ]
    },
    {
      "cell_type": "code",
      "execution_count": 8,
      "metadata": {
        "colab": {
          "base_uri": "https://localhost:8080/"
        },
        "id": "Gks8altAC4hz",
        "outputId": "015e0006-4f8f-4764-9d36-b55a65a38c42"
      },
      "outputs": [
        {
          "name": "stdout",
          "output_type": "stream",
          "text": [
            "<enumerate object at 0x7cd116770900>\n",
            "Return type: <class 'enumerate'>\n",
            "[(0, 'eat'), (1, 'sleep'), (2, 'repeat')]\n",
            "[(0, 'g'), (1, 'e'), (2, 'e'), (3, 'k')]\n",
            "[(2, 'g'), (3, 'e'), (4, 'e'), (5, 'k')]\n"
          ]
        }
      ],
      "source": [
        "l1 = [\"eat\", \"sleep\", \"repeat\"]\n",
        "s1 = \"geek\"\n",
        "\n",
        "# creating enumerate objects\n",
        "obj1 = enumerate(l1)\n",
        "obj2 = enumerate(s1)\n",
        "\n",
        "print(obj1)\n",
        "print (\"Return type:\", type(obj1))\n",
        "\n",
        "print (list(obj1))  # only be iterated over once if i run again will return null\n",
        "print (list(obj2))\n",
        "\n",
        "# changing start index to 2 from 0\n",
        "\n",
        "print(list(enumerate(s1, 2)))"
      ]
    },
    {
      "cell_type": "code",
      "execution_count": null,
      "metadata": {
        "id": "o9tkJm76C6Cc"
      },
      "outputs": [],
      "source": [
        "my_list = []\n",
        "help(my_list.append)"
      ]
    },
    {
      "cell_type": "code",
      "execution_count": null,
      "metadata": {
        "id": "0-a9w9FvC7Xi"
      },
      "outputs": [],
      "source": [
        "nums = [0, 1, 2, 3, 4]\n",
        "squares = [x ** 2 for x in nums]\n",
        "print(squares)"
      ]
    },
    {
      "cell_type": "code",
      "execution_count": null,
      "metadata": {
        "id": "1UQA5AbRC8rh"
      },
      "outputs": [],
      "source": [
        "nums = [0, 1, 2, 3, 4]\n",
        "even_squares = [x ** 2 for x in nums if x % 2 == 0]\n",
        "print(even_squares)"
      ]
    },
    {
      "cell_type": "code",
      "execution_count": null,
      "metadata": {
        "id": "FC91zUR2C-FZ"
      },
      "outputs": [],
      "source": [
        "def print(x):\n",
        "  print('hello,',x)"
      ]
    },
    {
      "cell_type": "code",
      "execution_count": null,
      "metadata": {
        "id": "9wGAxpCEC_r5"
      },
      "outputs": [],
      "source": [
        "print('ali')"
      ]
    },
    {
      "cell_type": "code",
      "execution_count": null,
      "metadata": {
        "id": "j3bZP8nUDBs4"
      },
      "outputs": [],
      "source": [
        "def sign(x):\n",
        "  if x > 0:\n",
        "    return 'positive'\n",
        "  elif x < 0:\n",
        "    return 'negative'\n",
        "  else:\n",
        "    return 'zero'\n",
        "for x in [-1, 0, 1]:\n",
        "  print(sign(x))"
      ]
    },
    {
      "cell_type": "code",
      "execution_count": null,
      "metadata": {
        "id": "YQ5eJW5cDC-K"
      },
      "outputs": [],
      "source": [
        "def square(number):\n",
        "  return number * number\n",
        "result = square(2)\n",
        "print(result)"
      ]
    },
    {
      "cell_type": "code",
      "execution_count": 1,
      "metadata": {
        "id": "5fN4ITBtDEP3"
      },
      "outputs": [
        {
          "name": "stdout",
          "output_type": "stream",
          "text": [
            "cute\n",
            "True\n"
          ]
        },
        {
          "ename": "KeyError",
          "evalue": "'fish'",
          "output_type": "error",
          "traceback": [
            "\u001b[1;31m---------------------------------------------------------------------------\u001b[0m",
            "\u001b[1;31mKeyError\u001b[0m                                  Traceback (most recent call last)",
            "Cell \u001b[1;32mIn[1], line 6\u001b[0m\n\u001b[0;32m      2\u001b[0m \u001b[38;5;28mprint\u001b[39m(d[\u001b[38;5;124m'\u001b[39m\u001b[38;5;124mcat\u001b[39m\u001b[38;5;124m'\u001b[39m]) \u001b[38;5;66;03m# Get an entry from a dictionary; prints \"cute\"\u001b[39;00m\n\u001b[0;32m      4\u001b[0m \u001b[38;5;28mprint\u001b[39m(\u001b[38;5;124m'\u001b[39m\u001b[38;5;124mcat\u001b[39m\u001b[38;5;124m'\u001b[39m \u001b[38;5;129;01min\u001b[39;00m d) \u001b[38;5;66;03m# Check if a dictionary has a given key; prints \"True\"\u001b[39;00m\n\u001b[1;32m----> 6\u001b[0m \u001b[38;5;28mprint\u001b[39m(d[\u001b[38;5;124m'\u001b[39m\u001b[38;5;124mfish\u001b[39m\u001b[38;5;124m'\u001b[39m]) \u001b[38;5;66;03m# error not found\u001b[39;00m\n\u001b[0;32m      8\u001b[0m d[\u001b[38;5;124m'\u001b[39m\u001b[38;5;124mfish\u001b[39m\u001b[38;5;124m'\u001b[39m] \u001b[38;5;241m=\u001b[39m \u001b[38;5;124m'\u001b[39m\u001b[38;5;124mwet\u001b[39m\u001b[38;5;124m'\u001b[39m \u001b[38;5;66;03m# Set an entry in a dictionary\u001b[39;00m\n\u001b[0;32m     10\u001b[0m \u001b[38;5;28mprint\u001b[39m(d[\u001b[38;5;124m'\u001b[39m\u001b[38;5;124mfish\u001b[39m\u001b[38;5;124m'\u001b[39m]) \u001b[38;5;66;03m# Prints \"wet\"\u001b[39;00m\n",
            "\u001b[1;31mKeyError\u001b[0m: 'fish'"
          ]
        }
      ],
      "source": [
        "d = {'cat': 'cute', 'dog': 'furry'} # Create a new dictionary with some data\n",
        "print(d['cat']) # Get an entry from a dictionary; prints \"cute\"\n",
        "\n",
        "print('cat' in d) # Check if a dictionary has a given key; prints \"True\"\n",
        "\n",
        "print(d['fish']) # error not found\n",
        "\n",
        "d['fish'] = 'wet' # Set an entry in a dictionary\n",
        "\n",
        "print(d['fish']) # Prints \"wet\"\n",
        "\n",
        "# print(d['monkey']) # KeyError: 'monkey' not a key of d\n",
        "print(d.get('monkey', 'N/A')) # Get an element with a default; prints \"N/A\"\n",
        "print(d.get('fish', 'N/A')) # Get an element with a default; prints \"wet\"\n",
        "del d['fish'] # Remove an element from a dictionary\n",
        "print(d.get('fish', 'N/A')) # \"fish\" is no longer a key; prints \"N/A\""
      ]
    },
    {
      "cell_type": "markdown",
      "metadata": {
        "id": "8_QgWABVqoWm"
      },
      "source": [
        "numpy"
      ]
    },
    {
      "cell_type": "code",
      "execution_count": 18,
      "metadata": {
        "colab": {
          "base_uri": "https://localhost:8080/"
        },
        "id": "_7ujkNaMDFsX",
        "outputId": "a147ffa9-e272-4514-b3ae-2fe168afef26"
      },
      "outputs": [
        {
          "name": "stdout",
          "output_type": "stream",
          "text": [
            "[5 2 3]\n",
            "Array is of type:  <class 'numpy.ndarray'>\n",
            "No. of dimensions:  1\n",
            "Shape of array:  (3,)\n",
            "Size of array:  3\n",
            "Array stores elements of type:  int64\n"
          ]
        }
      ],
      "source": [
        "import numpy as np\n",
        "\n",
        "# Creating array object\n",
        "# arr = np.array( [[ 1, 2, 3],\n",
        "#                  [ 4, 2, 5]] )\n",
        "arr = np.array([1,2,3])\n",
        "# arr = np.array( [\n",
        "#     [[[1],[2],[3]], [[2],[3],[4]], [[3],[4],[5]]],\n",
        "#     [[[4],[5],[6]], [[2],[7],[8]], [[5],[9],[2]]]\n",
        "#     ])\n",
        "\n",
        "arr[0] = 5\n",
        "\n",
        "print(arr)\n",
        "\n",
        "# Printing type of arr object\n",
        "print(\"Array is of type: \", type(arr))\n",
        "\n",
        "# Printing array dimensions (axes)\n",
        "print(\"No. of dimensions: \", arr.ndim)\n",
        "\n",
        "# Printing shape of array\n",
        "print(\"Shape of array: \", arr.shape)\n",
        "\n",
        "# Printing size (total number of elements) of array\n",
        "print(\"Size of array: \", arr.size)\n",
        "\n",
        "# Printing type of elements in array\n",
        "print(\"Array stores elements of type: \", arr.dtype)        # numpy choose the datatype"
      ]
    },
    {
      "cell_type": "code",
      "execution_count": 34,
      "metadata": {
        "colab": {
          "base_uri": "https://localhost:8080/"
        },
        "id": "GJtcrk5zDG6W",
        "outputId": "f7b40912-4345-4862-82fd-52e7f8bab7ce"
      },
      "outputs": [
        {
          "name": "stdout",
          "output_type": "stream",
          "text": [
            "Array created using passed list:\n",
            " (2, 3)\n",
            "\n",
            "Array created using passed tuple:\n",
            " [1 3 2]\n",
            "[5 3 2]\n"
          ]
        }
      ],
      "source": [
        "import numpy as np\n",
        "\n",
        "# Creating array from list with type float\n",
        "a = np.array([[1, 2, 4], [5, 8, 7]], dtype = 'float')\n",
        "print (\"Array created using passed list:\\n\", a.shape)\n",
        "\n",
        "\n",
        "# Creating array from tuple\n",
        "tuple = (1 , 3, 2)\n",
        "b = np.array(tuple)\n",
        "print (\"\\nArray created using passed tuple:\\n\", b)\n",
        "\n",
        "b[0] = 5\n",
        "print(b)"
      ]
    },
    {
      "cell_type": "code",
      "execution_count": 42,
      "metadata": {
        "colab": {
          "base_uri": "https://localhost:8080/"
        },
        "id": "2haJZL3CtORN",
        "outputId": "326897a8-ce86-433c-e963-fc2ba1349baa"
      },
      "outputs": [
        {
          "name": "stdout",
          "output_type": "stream",
          "text": [
            "[[ 6.  8.]\n",
            " [10. 12.]]\n",
            "[[ 6.  8.]\n",
            " [10. 12.]]\n",
            "[[-4. -4.]\n",
            " [-4. -4.]]\n",
            "[[-4. -4.]\n",
            " [-4. -4.]]\n",
            "[[ 5. 12.]\n",
            " [21. 32.]]\n",
            "[[ 5. 12.]\n",
            " [21. 32.]]\n",
            "[[0.2        0.33333333]\n",
            " [0.42857143 0.5       ]]\n",
            "[[0.2        0.33333333]\n",
            " [0.42857143 0.5       ]]\n",
            "[[1.         1.41421356]\n",
            " [1.73205081 2.        ]]\n",
            "\n",
            "\n",
            "x [[1. 2.]\n",
            " [3. 4.]]\n",
            "y [[5. 6.]\n",
            " [7. 8.]]\n"
          ]
        }
      ],
      "source": [
        "import numpy as np\n",
        "x = np.array([[1,2],[3,4]], dtype=np.float64)\n",
        "y = np.array([[5,6],[7,8]], dtype=np.float64)\n",
        "\n",
        "print(x + y)\n",
        "print(np.add(x, y))\n",
        "\n",
        "print(x - y)\n",
        "print(np.subtract(x, y))\n",
        "\n",
        "print(x * y)\n",
        "print(np.multiply(x, y))\n",
        "\n",
        "print(x / y)\n",
        "print(np.divide(x, y))\n",
        "\n",
        "print(np.sqrt(x))\n",
        "\n",
        "\n",
        "print('\\n')\n",
        "print('x',x)\n",
        "print('y',y)\n"
      ]
    },
    {
      "cell_type": "code",
      "execution_count": 52,
      "metadata": {
        "colab": {
          "base_uri": "https://localhost:8080/"
        },
        "id": "XcOGL6bhu_24",
        "outputId": "9c8735c9-e1cc-4b3c-a46a-ff7a97a9ae1d"
      },
      "outputs": [
        {
          "name": "stdout",
          "output_type": "stream",
          "text": [
            "(1, 4)\n",
            "2\n",
            "(1, 4)\n"
          ]
        }
      ],
      "source": [
        "list = [1,2,3,4]\n",
        "a = np.array([list])\n",
        "print(a.shape)    #a.shape()  wrong\n",
        "print(a.ndim)   # represents the number of dimensions (axes) of the ndarray\n",
        "# a.flatten()\n",
        "# a.ravel()\n",
        "print(a.shape)"
      ]
    },
    {
      "cell_type": "code",
      "execution_count": 45,
      "metadata": {
        "colab": {
          "base_uri": "https://localhost:8080/"
        },
        "id": "1ZKwmbjTsyPW",
        "outputId": "74c70e85-2c41-4df8-92d8-bde708c30d06"
      },
      "outputs": [
        {
          "name": "stdout",
          "output_type": "stream",
          "text": [
            "Compressed array: [[1 3]]\n"
          ]
        }
      ],
      "source": [
        "condition = [True, False, True, False]  # This condition array is the same length as the last dimension of 'a'\n",
        "compressed_array = a.compress(condition, axis=1)\n",
        "print(\"Compressed array:\", compressed_array)\n"
      ]
    },
    {
      "cell_type": "code",
      "execution_count": 49,
      "metadata": {
        "colab": {
          "base_uri": "https://localhost:8080/"
        },
        "id": "4Y809SWluGYa",
        "outputId": "b831a8ba-be05-461b-9409-6126bce39ff8"
      },
      "outputs": [
        {
          "name": "stdout",
          "output_type": "stream",
          "text": [
            "Reshaped array shape: (2, 2)\n",
            "Reshaped array:\n",
            " [[1 2]\n",
            " [3 4]]\n"
          ]
        }
      ],
      "source": [
        "reshaped_array = a.reshape(2, 2)\n",
        "print(\"Reshaped array shape:\", reshaped_array.shape)  # Output: (2, 2)\n",
        "print(\"Reshaped array:\\n\", reshaped_array)\n"
      ]
    },
    {
      "cell_type": "code",
      "execution_count": 48,
      "metadata": {
        "colab": {
          "base_uri": "https://localhost:8080/"
        },
        "id": "G7fYDMcJwLxZ",
        "outputId": "533f1de3-a40d-451e-edf4-38a41a3ebd45"
      },
      "outputs": [
        {
          "name": "stdout",
          "output_type": "stream",
          "text": [
            "Flattened array shape: (4,)\n",
            "Flattened array: [1 2 3 4]\n"
          ]
        }
      ],
      "source": [
        "flattened_array = a.flatten()\n",
        "print(\"Flattened array shape:\", flattened_array.shape)  # Output: (4,)\n",
        "print(\"Flattened array:\", flattened_array)\n"
      ]
    },
    {
      "cell_type": "code",
      "execution_count": 51,
      "metadata": {
        "id": "52my6F_pxBpQ"
      },
      "outputs": [],
      "source": [
        "# raveled_array = a.ravel()\n",
        "# print(\"Raveled array shape:\", raveled_array.shape)  # Output: (4,)\n",
        "# print(\"Raveled array:\", raveled_array)\n"
      ]
    },
    {
      "cell_type": "code",
      "execution_count": 54,
      "metadata": {
        "colab": {
          "base_uri": "https://localhost:8080/"
        },
        "id": "u92AbGM_xJPV",
        "outputId": "ed282738-06d3-4a6b-c8d6-795cc14808b4"
      },
      "outputs": [
        {
          "name": "stdout",
          "output_type": "stream",
          "text": [
            "[29 67]\n",
            "[29 67]\n"
          ]
        }
      ],
      "source": [
        "x = np.array([[1,2],[3,4]])\n",
        "y = np.array([[5,6],[7,8]])\n",
        "v = np.array([9,10])\n",
        "w = np.array([11, 12])\n",
        "# Inner product of vectors;\n",
        "# print(v.dot(w))\n",
        "# print(np.dot(v, w))\n",
        "# Matrix / vector product; both produce the rank 1 array [29 67]\n",
        "print(x.dot(v))\n",
        "print(np.dot(x, v))\n",
        "# Matrix / matrix product; both produce the rank 2 array\n",
        "# [[19 22]\n",
        "# [43 50]]\n",
        "# print(x.dot(y))\n",
        "# print(np.dot(x, y))"
      ]
    },
    {
      "cell_type": "code",
      "execution_count": 57,
      "metadata": {
        "colab": {
          "base_uri": "https://localhost:8080/"
        },
        "id": "cIVYaYVm0fiL",
        "outputId": "e9476341-a8be-48b2-a46a-4cc838cf3d6d"
      },
      "outputs": [
        {
          "name": "stdout",
          "output_type": "stream",
          "text": [
            "[[1 3]\n",
            " [2 4]]\n"
          ]
        }
      ],
      "source": [
        "print(x.T)"
      ]
    },
    {
      "cell_type": "code",
      "execution_count": 56,
      "metadata": {
        "colab": {
          "base_uri": "https://localhost:8080/"
        },
        "id": "kN7ZZRs4yKyT",
        "outputId": "73f82d07-6e8e-4dc5-8dee-825151f5a64f"
      },
      "outputs": [
        {
          "name": "stdout",
          "output_type": "stream",
          "text": [
            "10\n",
            "[4 6]\n",
            "[3 7]\n"
          ]
        }
      ],
      "source": [
        "print(np.sum(x)) # Compute sum of all elements; prints \"10\"\n",
        "print(np.sum(x, axis=0)) # Compute sum of each column; prints \"[4 6]\"\n",
        "print(np.sum(x, axis=1))"
      ]
    },
    {
      "cell_type": "code",
      "execution_count": 58,
      "metadata": {
        "colab": {
          "base_uri": "https://localhost:8080/"
        },
        "id": "60RxGlg5zoLZ",
        "outputId": "f38d7b1d-d157-4f09-f2f9-636eee89c625"
      },
      "outputs": [
        {
          "name": "stdout",
          "output_type": "stream",
          "text": [
            "[[10 12]\n",
            " [12 14]]\n",
            "[[ 6  8]\n",
            " [10 12]]\n"
          ]
        }
      ],
      "source": [
        "print(x+v)\n",
        "print(x+y)"
      ]
    },
    {
      "cell_type": "code",
      "execution_count": 59,
      "metadata": {
        "colab": {
          "base_uri": "https://localhost:8080/"
        },
        "id": "uLaXR2JL0nWr",
        "outputId": "80d26ab8-538a-48bf-c68d-97cddc1964bb"
      },
      "outputs": [
        {
          "name": "stdout",
          "output_type": "stream",
          "text": [
            "[[10 12]\n",
            " [12 14]]\n"
          ]
        }
      ],
      "source": [
        "print(v+x)       # is the same x + v"
      ]
    },
    {
      "cell_type": "code",
      "execution_count": null,
      "metadata": {
        "id": "xubFoPlh0qfW"
      },
      "outputs": [],
      "source": []
    }
  ],
  "metadata": {
    "colab": {
      "provenance": []
    },
    "kernelspec": {
      "display_name": "Python 3",
      "name": "python3"
    },
    "language_info": {
      "codemirror_mode": {
        "name": "ipython",
        "version": 3
      },
      "file_extension": ".py",
      "mimetype": "text/x-python",
      "name": "python",
      "nbconvert_exporter": "python",
      "pygments_lexer": "ipython3",
      "version": "3.11.9"
    }
  },
  "nbformat": 4,
  "nbformat_minor": 0
}
